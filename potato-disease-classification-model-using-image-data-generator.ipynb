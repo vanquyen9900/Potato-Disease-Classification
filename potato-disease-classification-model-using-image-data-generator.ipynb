{
 "cells": [
  {
   "cell_type": "code",
   "execution_count": 1,
   "id": "683e7886",
   "metadata": {},
   "outputs": [],
   "source": [
    "import tensorflow as tf\n",
    "from tensorflow.keras import models, layers\n",
    "import matplotlib.pyplot as plt\n",
    "from IPython.display import HTML\n",
    "from tensorflow.keras.preprocessing.image import ImageDataGenerator \n"
   ]
  },
  {
   "cell_type": "code",
   "execution_count": 5,
   "id": "0a7f8f51",
   "metadata": {},
   "outputs": [
    {
     "name": "stdout",
     "output_type": "stream",
     "text": [
      "Found 1506 images belonging to 3 classes.\n"
     ]
    }
   ],
   "source": [
    "IMAGE_SIZE = 256\n",
    "CHANELS = 3\n",
    "\n",
    "train_datagen  = ImageDataGenerator(\n",
    "    rescale = 1./255,\n",
    "    horizontal_flip = True,\n",
    "    rotation_range = 10,\n",
    "\n",
    ")\n",
    "\n",
    "train_generator = train_datagen.flow_from_directory(\n",
    "    'E:/Deep Learning/Potato Disease Classification/dataset/train',\n",
    "    target_size = (IMAGE_SIZE, IMAGE_SIZE),\n",
    "    batch_size = 32,\n",
    "    class_mode = 'sparse'\n",
    ")\n",
    "\n"
   ]
  },
  {
   "cell_type": "code",
   "execution_count": 18,
   "id": "5e6aaf7b",
   "metadata": {},
   "outputs": [
    {
     "name": "stdout",
     "output_type": "stream",
     "text": [
      "Found 215 images belonging to 3 classes.\n"
     ]
    }
   ],
   "source": [
    "validation_datagen  = ImageDataGenerator(\n",
    "    rescale = 1./255,\n",
    "    horizontal_flip = True,\n",
    "    rotation_range = 10,\n",
    "\n",
    ")\n",
    "\n",
    "validation_generator = train_datagen.flow_from_directory(\n",
    "    'E:/Deep Learning/Potato Disease Classification/dataset/val',\n",
    "    target_size = (IMAGE_SIZE, IMAGE_SIZE),\n",
    "    batch_size = 32,\n",
    "    class_mode = 'sparse',\n",
    ")\n"
   ]
  },
  {
   "cell_type": "code",
   "execution_count": 17,
   "id": "0fbdc807",
   "metadata": {},
   "outputs": [
    {
     "name": "stdout",
     "output_type": "stream",
     "text": [
      "Found 431 images belonging to 3 classes.\n"
     ]
    }
   ],
   "source": [
    "test_datagen  = ImageDataGenerator(\n",
    "    rescale = 1./255,\n",
    "    horizontal_flip = True,\n",
    "    rotation_range = 10,\n",
    "\n",
    ")\n",
    "\n",
    "test_generator = train_datagen.flow_from_directory(\n",
    "    'E:/Deep Learning/Potato Disease Classification/dataset/test',\n",
    "    target_size = (IMAGE_SIZE, IMAGE_SIZE),\n",
    "    batch_size = 32,\n",
    "    class_mode = 'sparse',\n",
    ")\n"
   ]
  },
  {
   "cell_type": "code",
   "execution_count": 11,
   "id": "691aa99b",
   "metadata": {},
   "outputs": [],
   "source": [
    "input_shape = (IMAGE_SIZE, IMAGE_SIZE, CHANELS)\n",
    "n_classes = 3\n",
    "\n",
    "model = models.Sequential([\n",
    "    layers.Conv2D(32, kernel_size = (3,3), activation='relu', input_shape=input_shape),\n",
    "    layers.MaxPooling2D((2, 2)),\n",
    "    layers.Conv2D(64,  kernel_size = (3,3), activation='relu'),\n",
    "    layers.MaxPooling2D((2, 2)),\n",
    "    layers.Conv2D(64,  kernel_size = (3,3), activation='relu'),\n",
    "    layers.MaxPooling2D((2, 2)),\n",
    "    layers.Conv2D(64, (3, 3), activation='relu'),\n",
    "    layers.MaxPooling2D((2, 2)),\n",
    "    layers.Conv2D(64, (3, 3), activation='relu'),\n",
    "    layers.MaxPooling2D((2, 2)),\n",
    "    layers.Conv2D(64, (3, 3), activation='relu'),\n",
    "    layers.MaxPooling2D((2, 2)),\n",
    "    layers.Flatten(),\n",
    "    layers.Dense(64, activation='relu'),\n",
    "    layers.Dense(n_classes, activation='softmax'),\n",
    "])"
   ]
  },
  {
   "cell_type": "code",
   "execution_count": 12,
   "id": "8109d12c",
   "metadata": {},
   "outputs": [
    {
     "name": "stdout",
     "output_type": "stream",
     "text": [
      "Model: \"sequential\"\n",
      "_________________________________________________________________\n",
      " Layer (type)                Output Shape              Param #   \n",
      "=================================================================\n",
      " conv2d (Conv2D)             (None, 254, 254, 32)      896       \n",
      "                                                                 \n",
      " max_pooling2d (MaxPooling2D  (None, 127, 127, 32)     0         \n",
      " )                                                               \n",
      "                                                                 \n",
      " conv2d_1 (Conv2D)           (None, 125, 125, 64)      18496     \n",
      "                                                                 \n",
      " max_pooling2d_1 (MaxPooling  (None, 62, 62, 64)       0         \n",
      " 2D)                                                             \n",
      "                                                                 \n",
      " conv2d_2 (Conv2D)           (None, 60, 60, 64)        36928     \n",
      "                                                                 \n",
      " max_pooling2d_2 (MaxPooling  (None, 30, 30, 64)       0         \n",
      " 2D)                                                             \n",
      "                                                                 \n",
      " conv2d_3 (Conv2D)           (None, 28, 28, 64)        36928     \n",
      "                                                                 \n",
      " max_pooling2d_3 (MaxPooling  (None, 14, 14, 64)       0         \n",
      " 2D)                                                             \n",
      "                                                                 \n",
      " conv2d_4 (Conv2D)           (None, 12, 12, 64)        36928     \n",
      "                                                                 \n",
      " max_pooling2d_4 (MaxPooling  (None, 6, 6, 64)         0         \n",
      " 2D)                                                             \n",
      "                                                                 \n",
      " conv2d_5 (Conv2D)           (None, 4, 4, 64)          36928     \n",
      "                                                                 \n",
      " max_pooling2d_5 (MaxPooling  (None, 2, 2, 64)         0         \n",
      " 2D)                                                             \n",
      "                                                                 \n",
      " flatten (Flatten)           (None, 256)               0         \n",
      "                                                                 \n",
      " dense (Dense)               (None, 64)                16448     \n",
      "                                                                 \n",
      " dense_1 (Dense)             (None, 3)                 195       \n",
      "                                                                 \n",
      "=================================================================\n",
      "Total params: 183,747\n",
      "Trainable params: 183,747\n",
      "Non-trainable params: 0\n",
      "_________________________________________________________________\n"
     ]
    }
   ],
   "source": [
    "model.summary()"
   ]
  },
  {
   "cell_type": "code",
   "execution_count": 15,
   "id": "ed9d15a4",
   "metadata": {},
   "outputs": [
    {
     "name": "stdout",
     "output_type": "stream",
     "text": [
      "Epoch 1/20\n",
      "47/47 [==============================] - 17s 274ms/step - loss: 0.8988 - accuracy: 0.5326 - val_loss: 0.8355 - val_accuracy: 0.5104\n",
      "Epoch 2/20\n",
      "47/47 [==============================] - 12s 261ms/step - loss: 0.6986 - accuracy: 0.6784 - val_loss: 0.4923 - val_accuracy: 0.8073\n",
      "Epoch 3/20\n",
      "47/47 [==============================] - 13s 271ms/step - loss: 0.4022 - accuracy: 0.8270 - val_loss: 0.3820 - val_accuracy: 0.8438\n",
      "Epoch 4/20\n",
      "47/47 [==============================] - 12s 256ms/step - loss: 0.2996 - accuracy: 0.8752 - val_loss: 0.3161 - val_accuracy: 0.8542\n",
      "Epoch 5/20\n",
      "47/47 [==============================] - 12s 255ms/step - loss: 0.2823 - accuracy: 0.8813 - val_loss: 0.2942 - val_accuracy: 0.8646\n",
      "Epoch 6/20\n",
      "47/47 [==============================] - 12s 248ms/step - loss: 0.2424 - accuracy: 0.9043 - val_loss: 0.2426 - val_accuracy: 0.8750\n",
      "Epoch 7/20\n",
      "47/47 [==============================] - 12s 251ms/step - loss: 0.2408 - accuracy: 0.9091 - val_loss: 0.1951 - val_accuracy: 0.9375\n",
      "Epoch 8/20\n",
      "47/47 [==============================] - 12s 250ms/step - loss: 0.2333 - accuracy: 0.9057 - val_loss: 0.3323 - val_accuracy: 0.8385\n",
      "Epoch 9/20\n",
      "47/47 [==============================] - 12s 255ms/step - loss: 0.1683 - accuracy: 0.9281 - val_loss: 0.2479 - val_accuracy: 0.9062\n",
      "Epoch 10/20\n",
      "47/47 [==============================] - 13s 268ms/step - loss: 0.2686 - accuracy: 0.8935 - val_loss: 0.1907 - val_accuracy: 0.9271\n",
      "Epoch 11/20\n",
      "47/47 [==============================] - 12s 251ms/step - loss: 0.1477 - accuracy: 0.9417 - val_loss: 0.1780 - val_accuracy: 0.9323\n",
      "Epoch 12/20\n",
      "47/47 [==============================] - 12s 257ms/step - loss: 0.1274 - accuracy: 0.9403 - val_loss: 1.4439 - val_accuracy: 0.6458\n",
      "Epoch 13/20\n",
      "47/47 [==============================] - 12s 257ms/step - loss: 0.2036 - accuracy: 0.9227 - val_loss: 0.2795 - val_accuracy: 0.9167\n",
      "Epoch 14/20\n",
      "47/47 [==============================] - 12s 243ms/step - loss: 0.1170 - accuracy: 0.9518 - val_loss: 0.1440 - val_accuracy: 0.9583\n",
      "Epoch 15/20\n",
      "47/47 [==============================] - 12s 260ms/step - loss: 0.1019 - accuracy: 0.9627 - val_loss: 0.1533 - val_accuracy: 0.9375\n",
      "Epoch 16/20\n",
      "47/47 [==============================] - 12s 259ms/step - loss: 0.0911 - accuracy: 0.9654 - val_loss: 0.1259 - val_accuracy: 0.9375\n",
      "Epoch 17/20\n",
      "47/47 [==============================] - 12s 254ms/step - loss: 0.1058 - accuracy: 0.9600 - val_loss: 0.1728 - val_accuracy: 0.9323\n",
      "Epoch 18/20\n",
      "47/47 [==============================] - 11s 241ms/step - loss: 0.0672 - accuracy: 0.9769 - val_loss: 0.0961 - val_accuracy: 0.9531\n",
      "Epoch 19/20\n",
      "47/47 [==============================] - 12s 245ms/step - loss: 0.0603 - accuracy: 0.9783 - val_loss: 0.1147 - val_accuracy: 0.9583\n",
      "Epoch 20/20\n",
      "47/47 [==============================] - 11s 242ms/step - loss: 0.0513 - accuracy: 0.9790 - val_loss: 0.1050 - val_accuracy: 0.9479\n"
     ]
    }
   ],
   "source": [
    "model.compile(\n",
    "    optimizer = 'adam',\n",
    "    loss = tf.keras.losses.SparseCategoricalCrossentropy(from_logits=False),\n",
    "    metrics = ['accuracy']\n",
    ")\n",
    "\n",
    "history = model.fit(\n",
    "    train_generator,\n",
    "    steps_per_epoch = 47,\n",
    "    epochs = 20,\n",
    "    batch_size = 32,\n",
    "    validation_data = validation_datagen,\n",
    "    validation_steps = 6,\n",
    "    verbose = 1,\n",
    ")"
   ]
  },
  {
   "cell_type": "code",
   "execution_count": 19,
   "id": "326882a5",
   "metadata": {},
   "outputs": [
    {
     "name": "stdout",
     "output_type": "stream",
     "text": [
      "14/14 [==============================] - 3s 218ms/step - loss: 0.2035 - accuracy: 0.9443\n"
     ]
    },
    {
     "data": {
      "text/plain": [
       "[0.20347413420677185, 0.9443155527114868]"
      ]
     },
     "execution_count": 19,
     "metadata": {},
     "output_type": "execute_result"
    }
   ],
   "source": [
    "scores = model.evaluate(test_generator)\n",
    "scores"
   ]
  },
  {
   "cell_type": "code",
   "execution_count": 20,
   "id": "6096d5f7",
   "metadata": {},
   "outputs": [
    {
     "data": {
      "text/plain": [
       "{'verbose': 1, 'epochs': 20, 'steps': 47}"
      ]
     },
     "execution_count": 20,
     "metadata": {},
     "output_type": "execute_result"
    }
   ],
   "source": [
    "history.params\n"
   ]
  },
  {
   "cell_type": "code",
   "execution_count": 23,
   "id": "3bc4be04",
   "metadata": {},
   "outputs": [
    {
     "data": {
      "text/plain": [
       "list"
      ]
     },
     "execution_count": 23,
     "metadata": {},
     "output_type": "execute_result"
    }
   ],
   "source": [
    "type(history.history['loss'])"
   ]
  },
  {
   "cell_type": "code",
   "execution_count": 24,
   "id": "15bfbab4",
   "metadata": {},
   "outputs": [
    {
     "data": {
      "text/plain": [
       "20"
      ]
     },
     "execution_count": 24,
     "metadata": {},
     "output_type": "execute_result"
    }
   ],
   "source": [
    "\n",
    "len(history.history['loss'])"
   ]
  },
  {
   "cell_type": "code",
   "execution_count": 25,
   "id": "3e888591",
   "metadata": {},
   "outputs": [
    {
     "data": {
      "text/plain": [
       "[0.8988330960273743,\n",
       " 0.6985890865325928,\n",
       " 0.40217000246047974,\n",
       " 0.2996470332145691,\n",
       " 0.28225964307785034]"
      ]
     },
     "execution_count": 25,
     "metadata": {},
     "output_type": "execute_result"
    }
   ],
   "source": [
    "history.history['loss'][:5]"
   ]
  },
  {
   "cell_type": "code",
   "execution_count": 26,
   "id": "808d4b08",
   "metadata": {},
   "outputs": [
    {
     "data": {
      "text/plain": [
       "[0.9230136275291443,\n",
       " 0.7241908311843872,\n",
       " 0.47826799750328064,\n",
       " 0.29314613342285156,\n",
       " 0.5106303691864014]"
      ]
     },
     "execution_count": 26,
     "metadata": {},
     "output_type": "execute_result"
    }
   ],
   "source": [
    "\n",
    "[0.9230136275291443,\n",
    " 0.7241908311843872,\n",
    " 0.47826799750328064,\n",
    " 0.29314613342285156,\n",
    " 0.5106303691864014]"
   ]
  },
  {
   "cell_type": "code",
   "execution_count": 27,
   "id": "509fca5e",
   "metadata": {},
   "outputs": [],
   "source": [
    "\n",
    "acc = history.history['accuracy']\n",
    "val_acc = history.history['val_accuracy']\n",
    "\n",
    "loss = history.history['loss']\n",
    "val_loss = history.history['val_loss']"
   ]
  },
  {
   "cell_type": "code",
   "execution_count": 28,
   "id": "87ecba63",
   "metadata": {},
   "outputs": [
    {
     "data": {
      "text/plain": [
       "[0.5104166865348816,\n",
       " 0.8072916865348816,\n",
       " 0.84375,\n",
       " 0.8541666865348816,\n",
       " 0.8645833134651184,\n",
       " 0.875,\n",
       " 0.9375,\n",
       " 0.8385416865348816,\n",
       " 0.90625,\n",
       " 0.9270833134651184,\n",
       " 0.9322916865348816,\n",
       " 0.6458333134651184,\n",
       " 0.9166666865348816,\n",
       " 0.9583333134651184,\n",
       " 0.9375,\n",
       " 0.9375,\n",
       " 0.9322916865348816,\n",
       " 0.953125,\n",
       " 0.9583333134651184,\n",
       " 0.9479166865348816]"
      ]
     },
     "execution_count": 28,
     "metadata": {},
     "output_type": "execute_result"
    }
   ],
   "source": [
    "\n",
    "val_acc"
   ]
  },
  {
   "cell_type": "code",
   "execution_count": 29,
   "id": "bece6891",
   "metadata": {},
   "outputs": [
    {
     "data": {
      "image/png": "[encoded data removed]",
      "text/plain": [
       "<Figure size 800x800 with 2 Axes>"
      ]
     },
     "metadata": {},
     "output_type": "display_data"
    }
   ],
   "source": [
    "\n",
    "EPOCHS = 20\n",
    "\n",
    "plt.figure(figsize=(8, 8))\n",
    "plt.subplot(1, 2, 1)\n",
    "plt.plot(range(EPOCHS), acc, label='Training Accuracy')\n",
    "plt.plot(range(EPOCHS), val_acc, label='Validation Accuracy')\n",
    "plt.legend(loc='lower right')\n",
    "plt.title('Training and Validation Accuracy')\n",
    "\n",
    "plt.subplot(1, 2, 2)\n",
    "plt.plot(range(EPOCHS), loss, label='Training Loss')\n",
    "plt.plot(range(EPOCHS), val_loss, label='Validation Loss')\n",
    "plt.legend(loc='upper right')\n",
    "plt.title('Training and Validation Loss')\n",
    "plt.show()"
   ]
  },
  {
   "cell_type": "code",
   "execution_count": 33,
   "id": "37434e66",
   "metadata": {},
   "outputs": [],
   "source": [
    "model.save(\"../potatoes.h5\")"
   ]
  }
 ],
 "metadata": {
  "kernelspec": {
   "display_name": "tf",
   "language": "python",
   "name": "python3"
  },
  "language_info": {
   "codemirror_mode": {
    "name": "ipython",
    "version": 3
   },
   "file_extension": ".py",
   "mimetype": "text/x-python",
   "name": "python",
   "nbconvert_exporter": "python",
   "pygments_lexer": "ipython3",
   "version": "3.9.23"
  }
 },
 "nbformat": 4,
 "nbformat_minor": 5
}
